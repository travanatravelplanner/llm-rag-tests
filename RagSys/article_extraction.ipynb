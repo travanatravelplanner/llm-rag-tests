{
 "cells": [
  {
   "cell_type": "code",
   "execution_count": 27,
   "metadata": {},
   "outputs": [],
   "source": [
    "import requests\n",
    "\n",
    "from dotenv import load_dotenv\n",
    "from newspaper import Article\n",
    "from pathlib import Path\n",
    "\n",
    "load_dotenv()"
   ]
  },
  {
   "cell_type": "code",
   "execution_count": 26,
   "metadata": {},
   "outputs": [],
   "source": [
    "articles = [\"https://www.kayak.com/Hyderabad.7297.guide\",\n",
    "\"https://www.lonelyplanet.com/india/andhra-pradesh/hyderabad-and-secunderabad\",\n",
    "\"https://www.roughguides.com/india/andhra-pradesh/hyderabadsecunderabad/\",\n",
    "\"https://www.trip.com/travel-guide/destination/hyderabad-15016/\",\n",
    "\"https://www.tripoto.com/andhra-pradesh/trips/cheap-places-to-shop-in-hyderabad\",\n",
    "\"https://www.reddit.com/r/hyderabad/comments/w9xrnb/travel_advice_for_a_first_time_visitor/\",\n",
    "\"https://traveltriangle.com/blog/places-to-visit-in-hyderabad/\",\n",
    "\"https://www.holidify.com/places/hyderabad/sightseeing-and-things-to-do.html\",\n",
    "\"https://www.thrillophilia.com/places-to-visit-in-hyderabad\",\n",
    "\"https://www.quora.com/Which-is-the-best-tourist-place-to-visit-from-Hyderabad-on-3-4-day-holiday\"]"
   ]
  },
  {
   "cell_type": "code",
   "execution_count": 35,
   "metadata": {},
   "outputs": [],
   "source": [
    "headers = {\n",
    "    'User-Agent': 'Mozilla/5.0 (Windows NT 10.0; Win64; x64) AppleWebKit/537.36 (KHTML, like Gecko) Chrome/89.0.4389.82 Safari/537.36'\n",
    "}\n",
    "\n",
    "session = requests.Session()"
   ]
  },
  {
   "cell_type": "code",
   "execution_count": 36,
   "metadata": {},
   "outputs": [],
   "source": [
    "# Open a text file in append mode\n",
    "with open(\"articles_content.txt\", \"a\", encoding=\"utf-8\") as file:\n",
    "    for article_url in articles:\n",
    "        try:\n",
    "            response = session.get(article_url, headers=headers, timeout=10)\n",
    "            if response.status_code == 200:\n",
    "                article = Article(article_url)\n",
    "                article.download()\n",
    "                article.parse()\n",
    "                # Write the content to the text file\n",
    "                file.write(article.text + \"\\n\\n\")\n",
    "            else:\n",
    "                print(f\"Failed to fetch article at {article_url}\")\n",
    "        except Exception as e:\n",
    "            print(f\"Error occurred while fetching article at {article_url}: {e}\")"
   ]
  },
  {
   "cell_type": "code",
   "execution_count": null,
   "metadata": {},
   "outputs": [],
   "source": []
  }
 ],
 "metadata": {
  "kernelspec": {
   "display_name": "usercom",
   "language": "python",
   "name": "python3"
  },
  "language_info": {
   "codemirror_mode": {
    "name": "ipython",
    "version": 3
   },
   "file_extension": ".py",
   "mimetype": "text/x-python",
   "name": "python",
   "nbconvert_exporter": "python",
   "pygments_lexer": "ipython3",
   "version": "3.11.3"
  }
 },
 "nbformat": 4,
 "nbformat_minor": 2
}
