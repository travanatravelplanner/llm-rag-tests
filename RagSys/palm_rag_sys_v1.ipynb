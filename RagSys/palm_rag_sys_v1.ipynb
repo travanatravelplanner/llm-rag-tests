{
 "cells": [
  {
   "cell_type": "markdown",
   "metadata": {},
   "source": [
    "#### 1. Importing Required libraries"
   ]
  },
  {
   "cell_type": "code",
   "execution_count": 20,
   "metadata": {},
   "outputs": [],
   "source": [
    "from dotenv import load_dotenv\n",
    "\n",
    "load_dotenv()\n",
    "import json\n",
    "import os\n",
    "\n",
    "from langchain.chains import RetrievalQA\n",
    "from langchain.document_loaders import TextLoader\n",
    "from langchain.text_splitter import RecursiveCharacterTextSplitter\n",
    "from langchain.prompts import PromptTemplate, ChatPromptTemplate\n",
    "from langchain.chat_models import ChatVertexAI\n",
    "from langchain.llms import VertexAI\n",
    "from langchain.embeddings import VertexAIEmbeddings\n",
    "from langchain.vectorstores import DeepLake"
   ]
  },
  {
   "cell_type": "markdown",
   "metadata": {},
   "source": [
    "#### 2. Loading the Hyd data"
   ]
  },
  {
   "cell_type": "code",
   "execution_count": 2,
   "metadata": {},
   "outputs": [],
   "source": [
    "loader = TextLoader('data/articles_content.txt')"
   ]
  },
  {
   "cell_type": "code",
   "execution_count": 3,
   "metadata": {},
   "outputs": [],
   "source": [
    "documents = loader.load()\n",
    "\n",
    "text_splitter = RecursiveCharacterTextSplitter(\n",
    "    chunk_size=1000, \n",
    "    chunk_overlap=20\n",
    ")\n",
    "\n",
    "texts = text_splitter.split_documents(documents)"
   ]
  },
  {
   "cell_type": "code",
   "execution_count": 5,
   "metadata": {},
   "outputs": [
    {
     "name": "stderr",
     "output_type": "stream",
     "text": [
      "Creating embedding data: 100%|██████████| 8/8 [00:04<00:00,  1.91it/s]\n"
     ]
    },
    {
     "name": "stdout",
     "output_type": "stream",
     "text": [
      "Dataset(path='./data/hyd_articles_embeddings', tensors=['embedding', 'id', 'metadata', 'text'])\n",
      "\n",
      "  tensor      htype      shape     dtype  compression\n",
      "  -------    -------    -------   -------  ------- \n",
      " embedding  embedding  (79, 768)  float32   None   \n",
      "    id        text      (79, 1)     str     None   \n",
      " metadata     json      (79, 1)     str     None   \n",
      "   text       text      (79, 1)     str     None   \n"
     ]
    },
    {
     "name": "stderr",
     "output_type": "stream",
     "text": []
    },
    {
     "data": {
      "text/plain": [
       "['decbbd88-7475-11ee-b4fe-04421acf6dbe',\n",
       " 'decbbd89-7475-11ee-b786-04421acf6dbe',\n",
       " 'decbbd8a-7475-11ee-9552-04421acf6dbe',\n",
       " 'decbbd8b-7475-11ee-8f9c-04421acf6dbe',\n",
       " 'decbbd8c-7475-11ee-aebc-04421acf6dbe',\n",
       " 'decbbd8d-7475-11ee-94d0-04421acf6dbe',\n",
       " 'decbbd8e-7475-11ee-ad08-04421acf6dbe',\n",
       " 'decbbd8f-7475-11ee-b7b5-04421acf6dbe',\n",
       " 'decbbd90-7475-11ee-8407-04421acf6dbe',\n",
       " 'decbbd91-7475-11ee-8c3a-04421acf6dbe',\n",
       " 'decbbd92-7475-11ee-bab0-04421acf6dbe',\n",
       " 'decbbd93-7475-11ee-a452-04421acf6dbe',\n",
       " 'decbbd94-7475-11ee-8e30-04421acf6dbe',\n",
       " 'decbbd95-7475-11ee-8f45-04421acf6dbe',\n",
       " 'decbbd96-7475-11ee-b36a-04421acf6dbe',\n",
       " 'decbbd97-7475-11ee-bdec-04421acf6dbe',\n",
       " 'decbbd98-7475-11ee-891e-04421acf6dbe',\n",
       " 'decbbd99-7475-11ee-b367-04421acf6dbe',\n",
       " 'decbe4ac-7475-11ee-a2c0-04421acf6dbe',\n",
       " 'decbe4ad-7475-11ee-9cab-04421acf6dbe',\n",
       " 'decbe4ae-7475-11ee-85d6-04421acf6dbe',\n",
       " 'decbe4af-7475-11ee-8526-04421acf6dbe',\n",
       " 'decbe4b0-7475-11ee-bf90-04421acf6dbe',\n",
       " 'decbe4b1-7475-11ee-947b-04421acf6dbe',\n",
       " 'decbe4b2-7475-11ee-b801-04421acf6dbe',\n",
       " 'decbe4b3-7475-11ee-a082-04421acf6dbe',\n",
       " 'decbe4b4-7475-11ee-bfde-04421acf6dbe',\n",
       " 'decbe4b5-7475-11ee-bbb3-04421acf6dbe',\n",
       " 'decbe4b6-7475-11ee-9f50-04421acf6dbe',\n",
       " 'decbe4b7-7475-11ee-86fa-04421acf6dbe',\n",
       " 'decbe4b8-7475-11ee-934a-04421acf6dbe',\n",
       " 'decbe4b9-7475-11ee-a347-04421acf6dbe',\n",
       " 'decbe4ba-7475-11ee-92a1-04421acf6dbe',\n",
       " 'decbe4bb-7475-11ee-ad38-04421acf6dbe',\n",
       " 'decbe4bc-7475-11ee-87fc-04421acf6dbe',\n",
       " 'decbe4bd-7475-11ee-a309-04421acf6dbe',\n",
       " 'decbe4be-7475-11ee-954b-04421acf6dbe',\n",
       " 'decbe4bf-7475-11ee-b420-04421acf6dbe',\n",
       " 'decbe4c0-7475-11ee-bb06-04421acf6dbe',\n",
       " 'decbe4c1-7475-11ee-a294-04421acf6dbe',\n",
       " 'decbe4c2-7475-11ee-8d01-04421acf6dbe',\n",
       " 'decbe4c3-7475-11ee-bdaf-04421acf6dbe',\n",
       " 'decbe4c4-7475-11ee-b329-04421acf6dbe',\n",
       " 'decbe4c5-7475-11ee-a69a-04421acf6dbe',\n",
       " 'decbe4c6-7475-11ee-a305-04421acf6dbe',\n",
       " 'decbe4c7-7475-11ee-a59b-04421acf6dbe',\n",
       " 'decbe4c8-7475-11ee-9268-04421acf6dbe',\n",
       " 'decbe4c9-7475-11ee-9c7a-04421acf6dbe',\n",
       " 'decbe4ca-7475-11ee-85dd-04421acf6dbe',\n",
       " 'decbe4cb-7475-11ee-a629-04421acf6dbe',\n",
       " 'decbe4cc-7475-11ee-b311-04421acf6dbe',\n",
       " 'decbe4cd-7475-11ee-98a2-04421acf6dbe',\n",
       " 'decbe4ce-7475-11ee-944a-04421acf6dbe',\n",
       " 'decbe4cf-7475-11ee-a4d7-04421acf6dbe',\n",
       " 'decbe4d0-7475-11ee-8f7e-04421acf6dbe',\n",
       " 'decbe4d1-7475-11ee-9294-04421acf6dbe',\n",
       " 'decbe4d2-7475-11ee-8bc4-04421acf6dbe',\n",
       " 'decbe4d3-7475-11ee-8c1e-04421acf6dbe',\n",
       " 'decbe4d4-7475-11ee-b492-04421acf6dbe',\n",
       " 'decbe4d5-7475-11ee-8bf3-04421acf6dbe',\n",
       " 'decbe4d6-7475-11ee-821c-04421acf6dbe',\n",
       " 'decbe4d7-7475-11ee-a737-04421acf6dbe',\n",
       " 'decbe4d8-7475-11ee-becd-04421acf6dbe',\n",
       " 'decbe4d9-7475-11ee-aa06-04421acf6dbe',\n",
       " 'decbe4da-7475-11ee-90a4-04421acf6dbe',\n",
       " 'decbe4db-7475-11ee-9e7f-04421acf6dbe',\n",
       " 'decbe4dc-7475-11ee-846b-04421acf6dbe',\n",
       " 'decbe4dd-7475-11ee-85bf-04421acf6dbe',\n",
       " 'decbe4de-7475-11ee-ab70-04421acf6dbe',\n",
       " 'decbe4df-7475-11ee-b07c-04421acf6dbe',\n",
       " 'decbe4e0-7475-11ee-8855-04421acf6dbe',\n",
       " 'decbe4e1-7475-11ee-b81d-04421acf6dbe',\n",
       " 'decbe4e2-7475-11ee-8992-04421acf6dbe',\n",
       " 'decbe4e3-7475-11ee-bb18-04421acf6dbe',\n",
       " 'decbe4e4-7475-11ee-8279-04421acf6dbe',\n",
       " 'decbe4e5-7475-11ee-b5ea-04421acf6dbe',\n",
       " 'decbe4e6-7475-11ee-8522-04421acf6dbe',\n",
       " 'decbe4e7-7475-11ee-b97b-04421acf6dbe',\n",
       " 'decbe4e8-7475-11ee-acc1-04421acf6dbe']"
      ]
     },
     "execution_count": 5,
     "metadata": {},
     "output_type": "execute_result"
    }
   ],
   "source": [
    "embeddings = VertexAIEmbeddings()\n",
    "\n",
    "dataset_path = \"./data/hyd_articles_embeddings\"\n",
    "\n",
    "db = DeepLake(\n",
    "    embedding=embeddings, \n",
    "    dataset_path=dataset_path,\n",
    "    overwrite=True\n",
    ")\n",
    "\n",
    "db.add_documents(texts)"
   ]
  },
  {
   "cell_type": "code",
   "execution_count": 6,
   "metadata": {},
   "outputs": [],
   "source": [
    "\"\"\"db_loaded = DeepLake(\n",
    "    dataset_path=dataset_path, \n",
    "    embedding_function=embeddings, \n",
    "    token=os.getenv(\"ACTIVELOOP_TOKEN\"),\n",
    "    org_id=os.getenv(\"ACTIVELOOP_ORG_ID\"),\n",
    "    read_only=True\n",
    ")\"\"\"\n",
    "\n",
    "retriever = db.as_retriever()"
   ]
  },
  {
   "cell_type": "code",
   "execution_count": 11,
   "metadata": {},
   "outputs": [],
   "source": [
    "template = \"\"\"\n",
    "            You are an expert intelligent and creative AI itinerary planner with extensive knowledge of places worldwide. Your goal is to plan an optimized itinerary for the user based on their specific interests and preferences, geographical proximity, and efficient routes to minimize travel time. To achieve this, follow these instructions:\n",
    "\n",
    "            1. Suggest three activities along with two restaurant per day. Each activity should include the name of the place, a brief description, estimated cost, and time to visit the place.\n",
    "\n",
    "            2. Generate a well-structured itinerary including day-to-day activities, timings to visit each location, and estimated costs for the user's reference.\n",
    "\n",
    "            3. Take into account factors such as geographical proximity between destinations, transportation options, and other logistical considerations when planning the route.\n",
    "            \n",
    "            By following these guidelines, you will create a comprehensive and optimized itinerary that meets the user's expectations while ensuring minimal travel time.\n",
    "          Use this context to generate the itinerary:\n",
    "          {context}\n",
    "        \n",
    "          Question: {query}\n",
    "          Answer:\"\"\""
   ]
  },
  {
   "cell_type": "code",
   "execution_count": 13,
   "metadata": {},
   "outputs": [],
   "source": [
    "prompt = PromptTemplate(\n",
    "        input_variables=[\"context\", \"query\"],\n",
    "        template=template,\n",
    "    )\n",
    "\n",
    "llm = ChatVertexAI(temperature=0.7)"
   ]
  },
  {
   "cell_type": "code",
   "execution_count": 24,
   "metadata": {},
   "outputs": [],
   "source": [
    "query = \"\"\"Generate 3 day itinerary for a trip to Hyderabad, India. Consider budget, timings and requirements. Include estimated cost and timings to visit for each activity and restaurant.\n",
    "    Structure the itinerary as follows:\n",
    "    {{\"Name\":\"name of the trip\", \"description\":\"description of the entire trip\", \"budget\":\"budget of the entire thing\", \"data\": [{{\"day\":1, \"day_description\":\"Description based on the entire day's places. in a couple of words, for example: `Urban Exploration`, `Historical Exploration`, `Spiritual Tour`, `Adventurous Journey`, `Dayout in a beach`, `Wildlife Safari`, `Artistic Getaway`, `Romantic Getaway`, `Desert Safari`, `Island Hopping Adventure`...\",  \"places\":[{{\"name\":\"Place Name\", \"description\":\"Place Description in two lines\",\"time_to_visit\": \"time to visit this place, for example: 9:00 to 10:00\", \"budget\":\"cost\"}}, {{\"name\":\"Place Name 2\", \"description\":\"Place Description 2 in two lines\",\"time_to_visit\": \"time to visit this place, for example 10:30 - 13:00\", \"budget\":\"cost\"}}]}}, {{\"day\":2, \"day_description\": \"Description based on the entire day's places\", \"places\":[{{\"name\":\"Place Name\",\"description\":\"Place Description in two lines\",\"time_to_visit\": \"time to visit this place\",\"budget\":\"cost\"}}, {{\"name\":\"Place Name 2\", \"description\":\"Place Description 2 in two lines\",\"time_to_visit\": \"time to visit this place\",\"budget\":\"cost\"}}]}}]}}\n",
    "    Note: Do not include any extra information outside this structure.\"\"\""
   ]
  },
  {
   "cell_type": "code",
   "execution_count": 25,
   "metadata": {},
   "outputs": [],
   "source": [
    "docs = db.similarity_search(query)\n",
    "retrieved_chunks = [doc.page_content for doc in docs]"
   ]
  },
  {
   "cell_type": "code",
   "execution_count": 35,
   "metadata": {},
   "outputs": [],
   "source": [
    "prompt_ = prompt.format(context=retrieved_chunks, query=query)\n",
    "\n",
    "\n",
    "llm = VertexAI(model_name='text-bison', temperature=0.7, max_output_tokens=2004)"
   ]
  },
  {
   "cell_type": "code",
   "execution_count": 36,
   "metadata": {},
   "outputs": [],
   "source": [
    "response = llm(prompt_)"
   ]
  },
  {
   "cell_type": "code",
   "execution_count": 37,
   "metadata": {},
   "outputs": [
    {
     "name": "stdout",
     "output_type": "stream",
     "text": [
      " {{\n",
      "\"Name\": \"Hyderabad Trip\",\n",
      "\"description\": \"Trip to explore the rich history and culture of Hyderabad.\",\n",
      "\"budget\": \"$1000\",\n",
      "\"data\": [\n",
      "{\n",
      "\"day\": 1,\n",
      "\"day_description\": \"Historical Exploration\",\n",
      "\"places\": [\n",
      "{\n",
      "\"name\": \"Charminar\",\n",
      "\"description\": \"Awe-inspiring architecture built in 1591, a symbol of Hyderabad.\",\n",
      "\"time_to_visit\": \"10:00 to 12:00\",\n",
      "\"budget\": \"$5\"\n",
      "},\n",
      "{\n",
      "\"name\": \"Golkonda Fort\",\n",
      "\"description\": \"An archeological gem, a fort built in the 16th century.\",\n",
      "\"time_to_visit\": \"12:00 to 14:00\",\n",
      "\"budget\": \"$10\"\n",
      "},\n",
      "{\n",
      "\"name\": \"Mecca Masjid\",\n",
      "\"description\": \"A heritage site, one of the largest mosques in India.\",\n",
      "\"time_to_visit\": \"14:00 to 16:00\",\n",
      "\"budget\": \"$2\"\n",
      "},\n",
      "{\n",
      "\"name\": \"Qutb Shahi Tombs\",\n",
      "\"description\": \"Marvel at the Persian architecture, built in the 16th century.\",\n",
      "\"time_to_visit\": \"16:00 to 18:00\",\n",
      "\"budget\": \"$5\"\n",
      "}\n",
      "]\n",
      "},\n",
      "{\n",
      "\"day\": 2,\n",
      "\"day_description\": \"Nature and Adventure\",\n",
      "\"places\": [\n",
      "{\n",
      "\"name\": \"Hussain Sagar Lake\",\n",
      "\"description\": \"Mesmerizing views, a beautiful lake in the heart of Hyderabad.\",\n",
      "\"time_to_visit\": \"10:00 to 12:00\",\n",
      "\"budget\": \"$2\"\n",
      "},\n",
      "{\n",
      "\"name\": \"Ramoji Film City\",\n",
      "\"description\": \"Paradise for movie buffs, a large film studio with various attractions.\",\n",
      "\"time_to_visit\": \"12:00 to 16:00\",\n",
      "\"budget\": \"$20\"\n",
      "},\n",
      "{\n",
      "\"name\": \"Nehru Zoological Park\",\n",
      "\"description\": \"Befriend various species, a large zoo with a wide variety of animals.\",\n",
      "\"time_to_visit\": \"16:00 to 18:00\",\n",
      "\"budget\": \"$10\"\n",
      "},\n",
      "{\n",
      "\"name\": \"Snow World\",\n",
      "\"description\": \"Have some snowy fun, an indoor snow park with various activities.\",\n",
      "\"time_to_visit\": \"18:00 to 20:00\",\n",
      "\"budget\": \"$15\"\n",
      "}\n",
      "]\n",
      "},\n",
      "{\n",
      "\"day\": 3,\n",
      "\"day_description\": \"Relaxation and Culture\",\n",
      "\"places\": [\n",
      "{\n",
      "\"name\": \"Lumbini Park\",\n",
      "\"description\": \"Refresh your senses, a beautiful park with a lake and various attractions.\",\n",
      "\"time_to_visit\": \"10:00 to 12:00\",\n",
      "\"budget\": \"$2\"\n",
      "},\n",
      "{\n",
      "\"name\": \"Birla Planetarium\",\n",
      "\"description\": \"Fusion of entertainment and science, a planetarium with various shows.\",\n",
      "\"time_to_visit\": \"12:00 to 14:00\",\n",
      "\"budget\": \"$5\"\n",
      "},\n",
      "{\n",
      "\"name\": \"Salar Jung Museum\",\n",
      "\"description\": \"A treasure trove of art and artifacts, one of the largest museums in India.\",\n",
      "\"time_to_visit\": \"14:00 to 16:00\",\n",
      "\"budget\": \"$10\"\n",
      "},\n",
      "{\n",
      "\"name\": \"Tank Bund\",\n",
      "\"description\": \"A scenic walkway along the Hussain Sagar Lake.\",\n",
      "\"time_to_visit\": \"16:00 to 18:00\",\n",
      "\"budget\": \"Free\"\n",
      "}\n",
      "]\n",
      "}\n",
      "]\n",
      "}\n"
     ]
    }
   ],
   "source": [
    "print(response)"
   ]
  },
  {
   "cell_type": "code",
   "execution_count": null,
   "metadata": {},
   "outputs": [],
   "source": []
  }
 ],
 "metadata": {
  "kernelspec": {
   "display_name": "usercom",
   "language": "python",
   "name": "python3"
  },
  "language_info": {
   "codemirror_mode": {
    "name": "ipython",
    "version": 3
   },
   "file_extension": ".py",
   "mimetype": "text/x-python",
   "name": "python",
   "nbconvert_exporter": "python",
   "pygments_lexer": "ipython3",
   "version": "3.11.3"
  }
 },
 "nbformat": 4,
 "nbformat_minor": 2
}
