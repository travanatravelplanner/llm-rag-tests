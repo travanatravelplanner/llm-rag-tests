{
 "cells": [
  {
   "cell_type": "markdown",
   "metadata": {},
   "source": [
    "#### 1. Importing Required libraries"
   ]
  },
  {
   "cell_type": "code",
   "execution_count": 35,
   "metadata": {},
   "outputs": [],
   "source": [
    "from dotenv import load_dotenv\n",
    "\n",
    "load_dotenv()\n",
    "import json\n",
    "import os\n",
    "\n",
    "from langchain.chains import ConversationalRetrievalChain\n",
    "from langchain.document_loaders import TextLoader\n",
    "from langchain.text_splitter import RecursiveCharacterTextSplitter\n",
    "from langchain.prompts import PromptTemplate\n",
    "from langchain.chat_models import ChatVertexAI\n",
    "from langchain.embeddings import VertexAIEmbeddings\n",
    "from langchain.memory import ConversationBufferMemory\n",
    "from langchain.vectorstores import DeepLake"
   ]
  },
  {
   "cell_type": "markdown",
   "metadata": {},
   "source": [
    "#### 2. Loading the Hyd data"
   ]
  },
  {
   "cell_type": "code",
   "execution_count": 36,
   "metadata": {},
   "outputs": [],
   "source": [
    "loader = TextLoader('data/articles_content.txt')"
   ]
  },
  {
   "cell_type": "code",
   "execution_count": 37,
   "metadata": {},
   "outputs": [],
   "source": [
    "documents = loader.load()\n",
    "\n",
    "text_splitter = RecursiveCharacterTextSplitter(\n",
    "    chunk_size=1000, \n",
    "    chunk_overlap=20\n",
    ")\n",
    "\n",
    "docs = text_splitter.split_documents(documents)"
   ]
  },
  {
   "cell_type": "code",
   "execution_count": 38,
   "metadata": {},
   "outputs": [
    {
     "name": "stdout",
     "output_type": "stream",
     "text": [
      "Your Deep Lake dataset has been successfully created!\n"
     ]
    },
    {
     "name": "stderr",
     "output_type": "stream",
     "text": [
      "Creating embedding data: 100%|██████████| 8/8 [00:03<00:00,  2.05it/s]\n",
      "\\"
     ]
    },
    {
     "name": "stdout",
     "output_type": "stream",
     "text": [
      "Dataset(path='hub://travana_db/hyd_embedding', tensors=['embedding', 'id', 'metadata', 'text'])\n",
      "\n",
      "  tensor      htype      shape     dtype  compression\n",
      "  -------    -------    -------   -------  ------- \n",
      " embedding  embedding  (79, 768)  float32   None   \n",
      "    id        text      (79, 1)     str     None   \n",
      " metadata     json      (79, 1)     str     None   \n",
      "   text       text      (79, 1)     str     None   \n"
     ]
    },
    {
     "name": "stderr",
     "output_type": "stream",
     "text": [
      " \r"
     ]
    },
    {
     "data": {
      "text/plain": [
       "['228c9198-759f-11ee-b367-04421acf6dbe',\n",
       " '228c9199-759f-11ee-a2c0-04421acf6dbe',\n",
       " '228c919a-759f-11ee-9cab-04421acf6dbe',\n",
       " '228c919b-759f-11ee-85d6-04421acf6dbe',\n",
       " '228c919c-759f-11ee-8526-04421acf6dbe',\n",
       " '228c919d-759f-11ee-bf90-04421acf6dbe',\n",
       " '228c919e-759f-11ee-947b-04421acf6dbe',\n",
       " '228c919f-759f-11ee-b801-04421acf6dbe',\n",
       " '228c91a0-759f-11ee-a082-04421acf6dbe',\n",
       " '228c91a1-759f-11ee-bfde-04421acf6dbe',\n",
       " '228c91a2-759f-11ee-bbb3-04421acf6dbe',\n",
       " '228c91a3-759f-11ee-9f50-04421acf6dbe',\n",
       " '228c91a4-759f-11ee-86fa-04421acf6dbe',\n",
       " '228c91a5-759f-11ee-934a-04421acf6dbe',\n",
       " '228c91a6-759f-11ee-a347-04421acf6dbe',\n",
       " '228c91a7-759f-11ee-92a1-04421acf6dbe',\n",
       " '228c91a8-759f-11ee-ad38-04421acf6dbe',\n",
       " '228c91a9-759f-11ee-87fc-04421acf6dbe',\n",
       " '228c91aa-759f-11ee-a309-04421acf6dbe',\n",
       " '228c91ab-759f-11ee-954b-04421acf6dbe',\n",
       " '228c91ac-759f-11ee-b420-04421acf6dbe',\n",
       " '228c91ad-759f-11ee-bb06-04421acf6dbe',\n",
       " '228c91ae-759f-11ee-a294-04421acf6dbe',\n",
       " '228c91af-759f-11ee-8d01-04421acf6dbe',\n",
       " '228c91b0-759f-11ee-bdaf-04421acf6dbe',\n",
       " '228c91b1-759f-11ee-b329-04421acf6dbe',\n",
       " '228c91b2-759f-11ee-a69a-04421acf6dbe',\n",
       " '228c91b3-759f-11ee-a305-04421acf6dbe',\n",
       " '228c91b4-759f-11ee-a59b-04421acf6dbe',\n",
       " '228c91b5-759f-11ee-9268-04421acf6dbe',\n",
       " '228c91b6-759f-11ee-9c7a-04421acf6dbe',\n",
       " '228c91b7-759f-11ee-85dd-04421acf6dbe',\n",
       " '228c91b8-759f-11ee-a629-04421acf6dbe',\n",
       " '228c91b9-759f-11ee-b311-04421acf6dbe',\n",
       " '228c91ba-759f-11ee-98a2-04421acf6dbe',\n",
       " '228c91bb-759f-11ee-944a-04421acf6dbe',\n",
       " '228c91bc-759f-11ee-a4d7-04421acf6dbe',\n",
       " '228c91bd-759f-11ee-8f7e-04421acf6dbe',\n",
       " '228c91be-759f-11ee-9294-04421acf6dbe',\n",
       " '228c91bf-759f-11ee-8bc4-04421acf6dbe',\n",
       " '228c91c0-759f-11ee-8c1e-04421acf6dbe',\n",
       " '228c91c1-759f-11ee-b492-04421acf6dbe',\n",
       " '228c91c2-759f-11ee-8bf3-04421acf6dbe',\n",
       " '228c91c3-759f-11ee-821c-04421acf6dbe',\n",
       " '228c91c4-759f-11ee-a737-04421acf6dbe',\n",
       " '228c91c5-759f-11ee-becd-04421acf6dbe',\n",
       " '228c91c6-759f-11ee-aa06-04421acf6dbe',\n",
       " '228c91c7-759f-11ee-90a4-04421acf6dbe',\n",
       " '228c91c8-759f-11ee-9e7f-04421acf6dbe',\n",
       " '228c91c9-759f-11ee-846b-04421acf6dbe',\n",
       " '228c91ca-759f-11ee-85bf-04421acf6dbe',\n",
       " '228c91cb-759f-11ee-ab70-04421acf6dbe',\n",
       " '228c91cc-759f-11ee-b07c-04421acf6dbe',\n",
       " '228c91cd-759f-11ee-8855-04421acf6dbe',\n",
       " '228c91ce-759f-11ee-b81d-04421acf6dbe',\n",
       " '228c91cf-759f-11ee-8992-04421acf6dbe',\n",
       " '228c91d0-759f-11ee-bb18-04421acf6dbe',\n",
       " '228c91d1-759f-11ee-8279-04421acf6dbe',\n",
       " '228c91d2-759f-11ee-b5ea-04421acf6dbe',\n",
       " '228c91d3-759f-11ee-8522-04421acf6dbe',\n",
       " '228c91d4-759f-11ee-b97b-04421acf6dbe',\n",
       " '228c91d5-759f-11ee-acc1-04421acf6dbe',\n",
       " '228c91d6-759f-11ee-bb13-04421acf6dbe',\n",
       " '228c91d7-759f-11ee-b514-04421acf6dbe',\n",
       " '228c91d8-759f-11ee-a299-04421acf6dbe',\n",
       " '228c91d9-759f-11ee-abbe-04421acf6dbe',\n",
       " '228c91da-759f-11ee-990a-04421acf6dbe',\n",
       " '228c91db-759f-11ee-b59f-04421acf6dbe',\n",
       " '228c91dc-759f-11ee-ad23-04421acf6dbe',\n",
       " '228c91dd-759f-11ee-a192-04421acf6dbe',\n",
       " '228c91de-759f-11ee-91a3-04421acf6dbe',\n",
       " '228c91df-759f-11ee-a165-04421acf6dbe',\n",
       " '228c91e0-759f-11ee-b3f1-04421acf6dbe',\n",
       " '228c91e1-759f-11ee-8f12-04421acf6dbe',\n",
       " '228c91e2-759f-11ee-b65d-04421acf6dbe',\n",
       " '228c91e3-759f-11ee-8dc5-04421acf6dbe',\n",
       " '228c91e4-759f-11ee-b948-04421acf6dbe',\n",
       " '228c91e5-759f-11ee-ab7c-04421acf6dbe',\n",
       " '228c91e6-759f-11ee-a5bf-04421acf6dbe']"
      ]
     },
     "execution_count": 38,
     "metadata": {},
     "output_type": "execute_result"
    }
   ],
   "source": [
    "embeddings = VertexAIEmbeddings()\n",
    "dataset_path=\"hub://travana_db/hyd_embedding\"\n",
    "\n",
    "db = DeepLake(embedding=embeddings, dataset_path=dataset_path, overwrite=True)\n",
    "db.add_documents(docs)"
   ]
  },
  {
   "cell_type": "code",
   "execution_count": 8,
   "metadata": {},
   "outputs": [
    {
     "name": "stderr",
     "output_type": "stream",
     "text": [
      "Using embedding function is deprecated and will be removed in the future. Please use embedding instead.\n"
     ]
    },
    {
     "name": "stdout",
     "output_type": "stream",
     "text": [
      "Deep Lake Dataset in hub://travana_db/hyd_embedding already exists, loading from the storage\n"
     ]
    }
   ],
   "source": [
    "db_loaded = DeepLake(\n",
    "    dataset_path=dataset_path, \n",
    "    embedding=embeddings, \n",
    "    token=os.getenv(\"ACTIVELOOP_TOKEN\"),\n",
    "    read_only=True\n",
    ")"
   ]
  },
  {
   "cell_type": "code",
   "execution_count": 9,
   "metadata": {},
   "outputs": [],
   "source": [
    "retriever = db_loaded.as_retriever()"
   ]
  },
  {
   "cell_type": "code",
   "execution_count": 10,
   "metadata": {},
   "outputs": [],
   "source": [
    "_template = \"\"\"Given the following conversation and a follow up question, rephrase the follow up question to be a standalone question.\n",
    "You can assume the question about the most recent state of the union address.\n",
    "\n",
    "Chat History:\n",
    "{chat_history}\n",
    "\n",
    "Follow Up Input: {question}\n",
    "\n",
    "Standalone question:\"\"\"\n",
    "\n",
    "CONDENSE_QUESTION_PROMPT = PromptTemplate.from_template(_template)"
   ]
  },
  {
   "cell_type": "code",
   "execution_count": 17,
   "metadata": {},
   "outputs": [],
   "source": [
    "template = \"\"\"\n",
    "            You are an expert intelligent and creative AI itinerary planner with extensive knowledge of places worldwide. Your goal is to plan an optimized itinerary for the user based on their specific interests and preferences, geographical proximity, and efficient routes to minimize travel time. To achieve this, follow these instructions:\n",
    "\n",
    "            1. Suggest three activities along with two restaurant per day. Each activity should include the name of the place, a brief description, estimated cost, and time to visit the place.\n",
    "\n",
    "            2. Generate a well-structured itinerary including day-to-day activities, timings to visit each location, and estimated costs for the user's reference.\n",
    "\n",
    "            3. Take into account factors such as geographical proximity between destinations, transportation options, and other logistical considerations when planning the route.\n",
    "            \n",
    "            By following these guidelines, you will create a comprehensive and optimized itinerary that meets the user's expectations while ensuring minimal travel time.\n",
    "          \n",
    "            Use this context to generate the itinerary\n",
    "            \n",
    "            ==========\n",
    "            {context}\n",
    "            ==========\n",
    "\n",
    "            Question: {question}\n",
    "\n",
    "            Structure the itinerary as follows:\n",
    "            {{\"Name\":\"name of the trip\", \"description\":\"description of the entire trip\", \"budget\":\"budget of the entire thing\", \"data\": [{{\"day\":1, \"day_description\":\"Description based on the entire day's places. in a couple of words, for example: `Urban Exploration`, `Historical Exploration`, `Spiritual Tour`, `Adventurous Journey`, `Dayout in a beach`, `Wildlife Safari`, `Artistic Getaway`, `Romantic Getaway`, `Desert Safari`, `Island Hopping Adventure`...\",  \"places\":[{{\"name\":\"Place Name\", \"description\":\"Place Description in two lines\",\"time_to_visit\": \"time to visit this place, for example: 9:00 to 10:00\", \"budget\":\"cost\"}}, {{\"name\":\"Place Name 2\", \"description\":\"Place Description 2 in two lines\",\"time_to_visit\": \"time to visit this place, for example 10:30 - 13:00\", \"budget\":\"cost\"}}]}}, {{\"day\":2, \"day_description\": \"Description based on the entire day's places\", \"places\":[{{\"name\":\"Place Name\",\"description\":\"Place Description in two lines\",\"time_to_visit\": \"time to visit this place\",\"budget\":\"cost\"}}, {{\"name\":\"Place Name 2\", \"description\":\"Place Description 2 in two lines\",\"time_to_visit\": \"time to visit this place\",\"budget\":\"cost\"}}]}}]}}\n",
    "            Note: Do not include any extra information outside this structure.\n",
    "\n",
    "            Answer in JSON format:\"\"\""
   ]
  },
  {
   "cell_type": "code",
   "execution_count": 18,
   "metadata": {},
   "outputs": [],
   "source": [
    "QA_PROMPT = PromptTemplate(template=template, input_variables=[\n",
    "                           \"context\", \"question\"])"
   ]
  },
  {
   "cell_type": "code",
   "execution_count": 31,
   "metadata": {},
   "outputs": [],
   "source": [
    "llm = ChatVertexAI(model_name='chat-bison', temperature=0.7, max_output_tokens=2004)\n",
    "memory = ConversationBufferMemory(\n",
    "    memory_key=\"chat_history\",\n",
    "    return_docs=True\n",
    ")\n",
    "\n",
    "model = ConversationalRetrievalChain.from_llm(\n",
    "    llm=llm,\n",
    "    retriever=retriever,\n",
    "    memory=memory,\n",
    "    get_chat_history=lambda h: h,\n",
    "    condense_question_prompt=CONDENSE_QUESTION_PROMPT,\n",
    "    combine_docs_chain_kwargs={\"prompt\": QA_PROMPT}\n",
    ")"
   ]
  },
  {
   "cell_type": "code",
   "execution_count": 33,
   "metadata": {},
   "outputs": [
    {
     "name": "stdout",
     "output_type": "stream",
     "text": [
      " ```json\n",
      "{\n",
      "  \"Name\": \"Hyderabad Trip\",\n",
      "  \"description\": \"A 3-day itinerary for exploring the city of Hyderabad, India.\",\n",
      "  \"budget\": \"$500\",\n",
      "  \"data\": [\n",
      "    {\n",
      "      \"day\": 1,\n",
      "      \"day_description\": \"Historical Exploration\",\n",
      "      \"places\": [\n",
      "        {\n",
      "          \"name\": \"Charminar\",\n",
      "          \"description\": \"A 16th-century mosque and monument located in the old city of Hyderabad.\",\n",
      "          \"time_to_visit\": \"9:00 to 10:00\",\n",
      "          \"budget\": \"$5\"\n",
      "        },\n",
      "        {\n",
      "          \"name\": \"Golconda Fort\",\n",
      "          \"description\": \"A 16th-century fort located on a hilltop in Hyderabad.\",\n",
      "          \"time_to_visit\": \"10:30 - 13:00\",\n",
      "          \"budget\": \"$10\"\n",
      "        },\n",
      "        {\n",
      "          \"name\": \"Qutb Shahi Tombs\",\n",
      "          \"description\": \"A complex of tombs of the Qutb Shahi dynasty located in Hyderabad.\",\n",
      "          \"time_to_visit\": \"13:30 - 15:00\",\n",
      "          \"budget\": \"$5\"\n",
      "        }\n",
      "      ]\n",
      "    },\n",
      "    {\n",
      "      \"day\": 2,\n",
      "      \"day_description\": \"Cultural Exploration\",\n",
      "      \"places\": [\n",
      "        {\n",
      "          \"name\": \"Salar Jung Museum\",\n",
      "          \"description\": \"A museum located in Hyderabad that houses a collection of art and artifacts from around the world.\",\n",
      "          \"time_to_visit\": \"9:00 to 10:00\",\n",
      "          \"budget\": \"$10\"\n",
      "        },\n",
      "        {\n",
      "          \"name\": \"Laad Bazaar\",\n",
      "          \"description\": \"A market located in Hyderabad that is known for its colorful bangles and other traditional items.\",\n",
      "          \"time_to_visit\": \"10:30 - 13:00\",\n",
      "          \"budget\": \"$5\"\n",
      "        },\n",
      "        {\n",
      "          \"name\": \"Birla Mandir\",\n",
      "          \"description\": \"A Hindu temple located in Hyderabad that is known for its beautiful architecture.\",\n",
      "          \"time_to_visit\": \"13:30 - 15:00\",\n",
      "          \"budget\": \"$5\"\n",
      "        }\n",
      "      ]\n",
      "    },\n",
      "    {\n",
      "      \"day\": 3,\n",
      "      \"day_description\": \"Nature Exploration\",\n",
      "      \"places\": [\n",
      "        {\n",
      "          \"name\": \"Hussain Sagar Lake\",\n",
      "          \"description\": \"A lake located in Hyderabad that is known for its beautiful scenery.\",\n",
      "          \"time_to_visit\": \"9:00 to 10:00\",\n",
      "          \"budget\": \"$5\"\n",
      "        },\n",
      "        {\n",
      "          \"name\": \"Botanical Gardens\",\n",
      "          \"description\": \"A botanical garden located in Hyderabad that is home to a variety of plants and flowers.\",\n",
      "          \"time_to_visit\": \"10:30 - 13:00\",\n",
      "          \"budget\": \"$5\"\n",
      "        },\n",
      "        {\n",
      "          \"name\": \"Nehru Zoological Park\",\n",
      "          \"description\": \"A zoo located in Hyderabad that is home to a variety of animals.\",\n",
      "          \"time_to_visit\": \"13:30 - 15:00\",\n",
      "          \"budget\": \"$10\"\n",
      "        }\n",
      "      ]\n",
      "    }\n",
      "  ]\n",
      "}\n",
      "```\n"
     ]
    }
   ],
   "source": [
    "default_question = \"Generate 3 day itinerary for a trip to Hyderabad, India. Consider budget, timings and requirements. Include estimated cost and timings to visit for each activity and restaurant\"\n",
    "#query = Prompt.ask(\"Your Question: \",  default=default_question)\n",
    "result = model({\"question\": default_question})\n",
    "print(result['answer'])"
   ]
  },
  {
   "cell_type": "code",
   "execution_count": 34,
   "metadata": {},
   "outputs": [
    {
     "name": "stdout",
     "output_type": "stream",
     "text": [
      " {\"Name\": \"Hyderabad Trip\", \"description\": \"A trip to explore the beautiful city of Hyderabad.\", \"budget\": \"20000\", \"data\": [{\"day\": 1, \"day_description\": \"Historical Exploration\", \"places\": [{\"name\": \"Charminar\", \"description\": \"A 16th-century mosque and monument located in Hyderabad, India.\", \"time_to_visit\": \"9:00 to 10:30\", \"budget\": \"100\"}, {\"name\": \"Taramati Baradari\", \"description\": \"A 17th-century palace located in Hyderabad, India.\", \"time_to_visit\": \"11:00 to 12:30\", \"budget\": \"100\"}, {\"name\": \"Golconda Fort\", \"description\": \"A 16th-century fort located in Hyderabad, India.\", \"time_to_visit\": \"13:00 to 14:30\", \"budget\": \"100\"}, {\"name\": \"Chowmahalla Palace\", \"description\": \"A 19th-century palace located in Hyderabad, India.\", \"time_to_visit\": \"15:00 to 16:30\", \"budget\": \"100\"}, {\"name\": \"Salar Jung Museum\", \"description\": \"A museum located in Hyderabad, India.\", \"time_to_visit\": \"17:00 to 18:30\", \"budget\": \"100\"}, {\"name\": \"Birla Mandir\", \"description\": \"A Hindu temple located in Hyderabad, India.\", \"time_to_visit\": \"19:00 to 20:30\", \"budget\": \"100\"}]}, {\"day\": 2, \"day_description\": \"Nature Exploration\", \"places\": [{\"name\": \"Hussain Sagar Lake\", \"description\": \"A lake located in Hyderabad, India.\", \"time_to_visit\": \"9:00 to 10:30\", \"budget\": \"100\"}, {\"name\": \"Lumbini Park\", \"description\": \"A park located in Hyderabad, India.\", \"time_to_visit\": \"11:00 to 12:30\", \"budget\": \"100\"}, {\"name\": \"Botanical Garden\", \"description\": \"A garden located in Hyderabad, India.\", \"time_to_visit\": \"13:00 to 14:30\", \"budget\": \"100\"}, {\"name\": \"Butterfly Park\", \"description\": \"A park located in Hyderabad, India.\", \"time_to_visit\": \"15:00 to 16:30\", \"budget\": \"100\"}, {\"name\": \"Nehru Zoological Park\", \"description\": \"A zoo located in Hyderabad, India.\", \"time_to_visit\": \"17:00 to 18:30\", \"budget\": \"100\"}]}, {\"day\": 3, \"day_description\": \"Food Exploration\", \"places\": [{\"name\": \"Paradise Biryani\", \"description\": \"A restaurant located in Hyderabad, India.\", \"time_to_visit\": \"12:00 to 13:30\", \"budget\": \"500\"}, {\"name\": \"Chutneys\", \"description\": \"A restaurant located in Hyderabad, India.\", \"time_to_visit\": \"14:00 to 15:30\", \"budget\": \"500\"}, {\"name\": \"Ohri's Tandoor\", \"description\": \"A restaurant located in Hyderabad, India.\", \"time_to_visit\": \"16:00 to 17:30\", \"budget\": \"500\"}]}]}\n"
     ]
    }
   ],
   "source": [
    "result = model({\"question\": \"Change day 3 itinerary only to include restaurants\"})\n",
    "print(result['answer'])"
   ]
  },
  {
   "cell_type": "code",
   "execution_count": null,
   "metadata": {},
   "outputs": [],
   "source": []
  }
 ],
 "metadata": {
  "kernelspec": {
   "display_name": "usercom",
   "language": "python",
   "name": "python3"
  },
  "language_info": {
   "codemirror_mode": {
    "name": "ipython",
    "version": 3
   },
   "file_extension": ".py",
   "mimetype": "text/x-python",
   "name": "python",
   "nbconvert_exporter": "python",
   "pygments_lexer": "ipython3",
   "version": "3.11.3"
  }
 },
 "nbformat": 4,
 "nbformat_minor": 2
}
